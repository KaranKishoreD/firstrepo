{
  "nbformat": 4,
  "nbformat_minor": 0,
  "metadata": {
    "colab": {
      "provenance": [],
      "toc_visible": true,
      "include_colab_link": true
    },
    "kernelspec": {
      "name": "python3",
      "display_name": "Python 3"
    },
    "language_info": {
      "name": "python"
    }
  },
  "cells": [
    {
      "cell_type": "markdown",
      "metadata": {
        "id": "view-in-github",
        "colab_type": "text"
      },
      "source": [
        "<a href=\"https://colab.research.google.com/github/KaranKishoreD/firstrepo/blob/master/Tutorials/Tutorial-1/NumPy.ipynb\" target=\"_parent\"><img src=\"https://colab.research.google.com/assets/colab-badge.svg\" alt=\"Open In Colab\"/></a>"
      ]
    },
    {
      "cell_type": "code",
      "metadata": {
        "id": "alrXoCflGKM8",
        "outputId": "01ede424-384a-4180-ffa1-386845f0211a",
        "colab": {
          "base_uri": "https://localhost:8080/"
        }
      },
      "source": [
        "import numpy as np\n",
        "print(np.__version__)\n",
        "import matplotlib.pylab as plt"
      ],
      "execution_count": 1,
      "outputs": [
        {
          "output_type": "stream",
          "name": "stdout",
          "text": [
            "1.26.4\n"
          ]
        }
      ]
    },
    {
      "cell_type": "markdown",
      "metadata": {
        "id": "C6DUK8dwjExh"
      },
      "source": [
        "# Numpy Basics:\n"
      ]
    },
    {
      "cell_type": "markdown",
      "metadata": {
        "id": "9x-UquUqkMWs"
      },
      "source": [
        "**Exercise #1:** Creating a numpy array with particular value\n",
        "\n",
        "**Your Task** Create a numpy array with size 2*3 with all elements as 5."
      ]
    },
    {
      "cell_type": "code",
      "metadata": {
        "id": "jyhhYUA4kpqj",
        "outputId": "f5b5a722-7689-4951-f994-a8e0e3bdb91b",
        "colab": {
          "base_uri": "https://localhost:8080/"
        }
      },
      "source": [
        "# YOUR CODE STARTS HERE\n",
        "arr = np.full((2,3), 5)\n",
        "# YOUR CODE ENDS HERE\n",
        "print(arr)"
      ],
      "execution_count": 4,
      "outputs": [
        {
          "output_type": "stream",
          "name": "stdout",
          "text": [
            "[[5 5 5]\n",
            " [5 5 5]]\n"
          ]
        }
      ]
    },
    {
      "cell_type": "markdown",
      "metadata": {
        "id": "5NaczYqflEd5"
      },
      "source": [
        "**Exercise #2:** Creating a numpy array with *random* value\n",
        "\n",
        "**Your Task** Create a numpy array with size 2*3 with all random values"
      ]
    },
    {
      "cell_type": "code",
      "metadata": {
        "id": "9H2HQNC9lL-0",
        "outputId": "36123148-9e89-4333-b659-8b6f5961afbd",
        "colab": {
          "base_uri": "https://localhost:8080/"
        }
      },
      "source": [
        "# YOUR CODE STARTS HERE\n",
        "# To specify a range, use np.random.rand(0,1)(upper_limit-lower_limit) + lower_limit\n",
        "rand_arr = np.random.rand(2,3)\n",
        "# YOUR CODE ENDS HERE\n",
        "print(rand_arr)"
      ],
      "execution_count": null,
      "outputs": [
        {
          "output_type": "stream",
          "name": "stdout",
          "text": [
            "[[0.39020595 0.98105363 0.62126248]\n",
            " [0.12051287 0.18564382 0.3304063 ]]\n"
          ]
        }
      ]
    },
    {
      "cell_type": "markdown",
      "metadata": {
        "id": "uT4LJPBFldNc"
      },
      "source": [
        "**Exercise #3:** Basic NumPy operatrions\n",
        "\n",
        "**Your Task** For the random array `arr`defined above, find the `sum` of all the elements, `mean`, `maximum` and `minimum` value"
      ]
    },
    {
      "cell_type": "code",
      "metadata": {
        "id": "UDrDaAK4l5gq",
        "outputId": "fffaabcf-2ab0-4fe6-f43c-915a54c6d876",
        "colab": {
          "base_uri": "https://localhost:8080/"
        }
      },
      "source": [
        "#YOUR CODE STARTS HERE\n",
        "arr_sum, arr_mean, arr_max, arr_min = np.sum(arr), np.mean(arr), np.max(arr), np.min(arr)\n",
        "#YOUR CODE ENDS HERE\n",
        "\n",
        "print(f'sum: {arr_sum}\\nmean: {arr_mean}\\nmax: {arr_max}\\nmin:{arr_min}')"
      ],
      "execution_count": 5,
      "outputs": [
        {
          "output_type": "stream",
          "name": "stdout",
          "text": [
            "sum: 30\n",
            "mean: 5.0\n",
            "max: 5\n",
            "min:5\n"
          ]
        }
      ]
    },
    {
      "cell_type": "markdown",
      "metadata": {
        "id": "JzoFSwHjl3dW"
      },
      "source": [
        "**Exercise #4:** `argmin` and `argmax`\n",
        "\n",
        "**Your Task** For the random array `arr`defined below:\n",
        "\n",
        "*   Find the position of maximum and minimum value of above array\n",
        "*   Find the indices of maximum and minimum value along each of its columns.\n",
        "*   Find the indices of maximum and minimum value along each of the its rows.\n",
        "\n"
      ]
    },
    {
      "cell_type": "code",
      "metadata": {
        "id": "VBawwx5KmpZR",
        "colab": {
          "base_uri": "https://localhost:8080/"
        },
        "outputId": "2bca3ad2-29e0-4f20-b928-e48eff24a890"
      },
      "source": [
        "# Define an array\n",
        "arr = np.array([[5,12,51,25] ,[25,29,2,27]])\n",
        "print(f'Array:\\n{arr}\\n')\n",
        "# YOUR CODE STARTS HERE\n",
        "#Find the position of maximum and minimum value of above array\n",
        "max_pos = np.unravel_index(arr.argmax(), arr.shape)\n",
        "min_pos = np.unravel_index(arr.argmin(), arr.shape)\n",
        "print(f\"Position of maximum value: {max_pos}\")\n",
        "print(f\"Position of minimum value: {min_pos}\")\n",
        "#Find the indices of maximum and minimum value along each of its columns.\n",
        "max_col = arr.argmax(axis = 0)\n",
        "min_col = arr.argmin(axis = 1)\n",
        "print(f\"Maximum value along column: \", {max_col})\n",
        "print(f\"Minimum value along column: \", {min_col})\n",
        "#Find the indices of maximum and minimum value along each of the its rows.\n",
        "max_row = arr.argmax(axis = 0)\n",
        "min_row = arr.argmax(axis = 1)\n",
        "print(f\"Maximum value along row: \", {max_row})\n",
        "print(f\"Minimum value along row: \", {min_row})\n",
        "#YOUR CODE ENDS HERE"
      ],
      "execution_count": 8,
      "outputs": [
        {
          "output_type": "stream",
          "name": "stdout",
          "text": [
            "Array:\n",
            "[[ 5 12 51 25]\n",
            " [25 29  2 27]]\n",
            "\n"
          ]
        }
      ]
    },
    {
      "cell_type": "markdown",
      "source": [
        "Numpy Arrays vs. Python Lists?\n",
        "\n",
        "    Why the need for numpy arrays? Can't we just use Python lists?\n",
        "    Iterating over numpy arrays is slow. Slicing is faster\n",
        "\n",
        "Python lists may contain items of different types. This flexibility comes at a price: Python lists store pointers to memory locations. On the other hand, numpy arrays are typed, where the default type is floating point. Because of this, the system knows how much memory to allocate, and if you ask for an array of size 100, it will allocate one hundred contiguous spots in memory, where the size of each spot is based on the type. This makes access extremely fast.\n",
        "\n",
        "\n",
        "If you want to know more, we will suggest that you read this from [Jake Vanderplas's Data Science Handbook](https://jakevdp.github.io/PythonDataScienceHandbook/). You will find that book an incredible resource for learning numpy, pandas and plotting. All the lessons are available as colab notebooks so that u can try out the commands on your own."
      ],
      "metadata": {
        "id": "c6EJuS1SbEuX"
      }
    }
  ]
}